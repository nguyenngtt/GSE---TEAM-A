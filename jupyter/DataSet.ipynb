{
 "cells": [
  {
   "cell_type": "markdown",
   "metadata": {},
   "source": [
    "# DataSets\n",
    "## Preparation\n",
    "First, import libraries and load all the datasets we currently have"
   ]
  },
  {
   "cell_type": "code",
   "execution_count": 16,
   "metadata": {},
   "outputs": [],
   "source": [
    "import pandas as pd"
   ]
  },
  {
   "cell_type": "code",
   "execution_count": 17,
   "metadata": {},
   "outputs": [],
   "source": [
    "auto_labeled_df = pd.read_csv(\"../resources/auto_labled_data.csv\")\n",
    "fox_df = pd.read_csv(\"../resources/fox_news.csv\", sep=';')\n",
    "ethos_df = pd.read_csv(\"../resources/Ethos_Dataset_Binary.csv\", sep=';')\n",
    "\n",
    "olid_labels = pd.read_csv(\"../resources/OLIDv1.0/labels-levela.csv\")\n",
    "olid_texts = pd.read_csv(\"../resources/OLIDv1.0/testset-levela.tsv\", sep='\\t')"
   ]
  },
  {
   "cell_type": "markdown",
   "metadata": {},
   "source": [
    "### Prepare auto_labeled_data"
   ]
  },
  {
   "cell_type": "code",
   "execution_count": 18,
   "metadata": {},
   "outputs": [],
   "source": [
    "def classification_auto_labeled(x):\n",
    "    if x == 0:\n",
    "        return \"hate_speech\"\n",
    "    if x == 1:\n",
    "        return \"offensive_language\"\n",
    "    if x == 2:\n",
    "        return \"neither\"\n",
    "    \n",
    "auto_labeled_df = auto_labeled_df.drop(columns=['Unnamed: 0', 'count', 'hate_speech', 'offensive_language', 'neither'])\n",
    "auto_labeled_df['class'] = auto_labeled_df['class'].apply(classification_auto_labeled)"
   ]
  },
  {
   "cell_type": "markdown",
   "metadata": {},
   "source": [
    "### Prepare Ethos"
   ]
  },
  {
   "cell_type": "code",
   "execution_count": 19,
   "metadata": {},
   "outputs": [],
   "source": [
    "def classification_ethos(x):\n",
    "    if x == 0:\n",
    "        return 'hate_speech'\n",
    "    else:\n",
    "        return 'neither'\n",
    "\n",
    "ethos_df = ethos_df.rename(columns={'isHate': 'class', 'comment': 'tweet'})\n",
    "ethos_df['class'] = ethos_df['class'].apply(classification_ethos)"
   ]
  },
  {
   "cell_type": "markdown",
   "metadata": {},
   "source": [
    "### Prepare fox_news"
   ]
  },
  {
   "cell_type": "code",
   "execution_count": 20,
   "metadata": {},
   "outputs": [],
   "source": [
    "def classification_foxnews(x):\n",
    "    if x == 0:\n",
    "        return \"neither\"\n",
    "    if x == 1:\n",
    "        return \"offensive_language\"\n",
    "\n",
    "\n",
    "fox_df['class'] = fox_df['class'].apply(classification_foxnews)"
   ]
  },
  {
   "cell_type": "markdown",
   "metadata": {},
   "source": [
    "### Prepare OLID dataset"
   ]
  },
  {
   "cell_type": "code",
   "execution_count": 21,
   "metadata": {
    "scrolled": true
   },
   "outputs": [
    {
     "data": {
      "text/html": [
       "<div>\n",
       "<style scoped>\n",
       "    .dataframe tbody tr th:only-of-type {\n",
       "        vertical-align: middle;\n",
       "    }\n",
       "\n",
       "    .dataframe tbody tr th {\n",
       "        vertical-align: top;\n",
       "    }\n",
       "\n",
       "    .dataframe thead th {\n",
       "        text-align: right;\n",
       "    }\n",
       "</style>\n",
       "<table border=\"1\" class=\"dataframe\">\n",
       "  <thead>\n",
       "    <tr style=\"text-align: right;\">\n",
       "      <th></th>\n",
       "      <th>id</th>\n",
       "      <th>tweet_x</th>\n",
       "      <th>tweet_y</th>\n",
       "    </tr>\n",
       "  </thead>\n",
       "  <tbody>\n",
       "    <tr>\n",
       "      <th>406</th>\n",
       "      <td>70324</td>\n",
       "      <td>OFF</td>\n",
       "      <td>Alright let me get right with God bc Mother Na...</td>\n",
       "    </tr>\n",
       "    <tr>\n",
       "      <th>813</th>\n",
       "      <td>73105</td>\n",
       "      <td>NOT</td>\n",
       "      <td>#ChequersPlan What an absolute farce Brexit is...</td>\n",
       "    </tr>\n",
       "    <tr>\n",
       "      <th>42</th>\n",
       "      <td>30900</td>\n",
       "      <td>NOT</td>\n",
       "      <td>@USER @USER @USER Are you referring to how the...</td>\n",
       "    </tr>\n",
       "    <tr>\n",
       "      <th>347</th>\n",
       "      <td>47696</td>\n",
       "      <td>OFF</td>\n",
       "      <td>#LiberalLogic  #Kavanaugh looks predatory. The...</td>\n",
       "    </tr>\n",
       "    <tr>\n",
       "      <th>606</th>\n",
       "      <td>66771</td>\n",
       "      <td>NOT</td>\n",
       "      <td>@USER Ah it's a she and she is called George 🐅...</td>\n",
       "    </tr>\n",
       "    <tr>\n",
       "      <th>13</th>\n",
       "      <td>64376</td>\n",
       "      <td>NOT</td>\n",
       "      <td>#GreatAwakening #QAnon #PatriotsUnited #WWG1WG...</td>\n",
       "    </tr>\n",
       "    <tr>\n",
       "      <th>7</th>\n",
       "      <td>65507</td>\n",
       "      <td>OFF</td>\n",
       "      <td>@USER Do you get the feeling he is kissing @US...</td>\n",
       "    </tr>\n",
       "    <tr>\n",
       "      <th>668</th>\n",
       "      <td>43453</td>\n",
       "      <td>NOT</td>\n",
       "      <td>#NuevaFotoDePerfil Pic by: @USER  You are awes...</td>\n",
       "    </tr>\n",
       "    <tr>\n",
       "      <th>597</th>\n",
       "      <td>41609</td>\n",
       "      <td>NOT</td>\n",
       "      <td>@USER Chicago's gun control is so effective it...</td>\n",
       "    </tr>\n",
       "    <tr>\n",
       "      <th>744</th>\n",
       "      <td>62788</td>\n",
       "      <td>OFF</td>\n",
       "      <td>#OITNB. She is the worst public defender. Trai...</td>\n",
       "    </tr>\n",
       "  </tbody>\n",
       "</table>\n",
       "</div>"
      ],
      "text/plain": [
       "        id tweet_x                                            tweet_y\n",
       "406  70324     OFF  Alright let me get right with God bc Mother Na...\n",
       "813  73105     NOT  #ChequersPlan What an absolute farce Brexit is...\n",
       "42   30900     NOT  @USER @USER @USER Are you referring to how the...\n",
       "347  47696     OFF  #LiberalLogic  #Kavanaugh looks predatory. The...\n",
       "606  66771     NOT  @USER Ah it's a she and she is called George 🐅...\n",
       "13   64376     NOT  #GreatAwakening #QAnon #PatriotsUnited #WWG1WG...\n",
       "7    65507     OFF  @USER Do you get the feeling he is kissing @US...\n",
       "668  43453     NOT  #NuevaFotoDePerfil Pic by: @USER  You are awes...\n",
       "597  41609     NOT  @USER Chicago's gun control is so effective it...\n",
       "744  62788     OFF  #OITNB. She is the worst public defender. Trai..."
      ]
     },
     "execution_count": 21,
     "metadata": {},
     "output_type": "execute_result"
    }
   ],
   "source": [
    "olid_df = pd.merge(olid_labels, olid_texts, on=\"id\")\n",
    "olid_df.sample(10)"
   ]
  },
  {
   "cell_type": "code",
   "execution_count": 22,
   "metadata": {},
   "outputs": [],
   "source": [
    "olid_df = olid_df.rename(columns={\"tweet_x\": \"class\", \"tweet_y\": \"tweet\"})"
   ]
  },
  {
   "cell_type": "code",
   "execution_count": 23,
   "metadata": {},
   "outputs": [],
   "source": [
    "def classification_olid(x):\n",
    "    if x == 'NOT':\n",
    "        return 'neither'\n",
    "    if x == 'OFF':\n",
    "        return 'offensive_language'\n",
    "\n",
    "olid_df['class'] = olid_df['class'].apply(classification_olid)\n",
    "olid_df = olid_df.drop(columns=['id'])"
   ]
  },
  {
   "cell_type": "markdown",
   "metadata": {},
   "source": [
    "## Combine the data\n",
    "\n",
    "### Verify dataframes\n",
    "Now we can combine the datasets. Verify that all dataframes provide us with the columns _class_ and _tweet_"
   ]
  },
  {
   "cell_type": "code",
   "execution_count": 28,
   "metadata": {
    "scrolled": true
   },
   "outputs": [
    {
     "data": {
      "text/plain": [
       "49566"
      ]
     },
     "execution_count": 28,
     "metadata": {},
     "output_type": "execute_result"
    }
   ],
   "source": [
    "auto_labeled_df.sample(3)"
   ]
  },
  {
   "cell_type": "code",
   "execution_count": 25,
   "metadata": {},
   "outputs": [
    {
     "data": {
      "text/html": [
       "<div>\n",
       "<style scoped>\n",
       "    .dataframe tbody tr th:only-of-type {\n",
       "        vertical-align: middle;\n",
       "    }\n",
       "\n",
       "    .dataframe tbody tr th {\n",
       "        vertical-align: top;\n",
       "    }\n",
       "\n",
       "    .dataframe thead th {\n",
       "        text-align: right;\n",
       "    }\n",
       "</style>\n",
       "<table border=\"1\" class=\"dataframe\">\n",
       "  <thead>\n",
       "    <tr style=\"text-align: right;\">\n",
       "      <th></th>\n",
       "      <th>tweet</th>\n",
       "      <th>class</th>\n",
       "    </tr>\n",
       "  </thead>\n",
       "  <tbody>\n",
       "    <tr>\n",
       "      <th>973</th>\n",
       "      <td>Archeological evidence is clear, europeans hav...</td>\n",
       "      <td>hate_speech</td>\n",
       "    </tr>\n",
       "    <tr>\n",
       "      <th>11</th>\n",
       "      <td>Who do you think you are cunt? wtf! Stay stead...</td>\n",
       "      <td>neither</td>\n",
       "    </tr>\n",
       "    <tr>\n",
       "      <th>661</th>\n",
       "      <td>Why the fuck would you ask Trump?</td>\n",
       "      <td>hate_speech</td>\n",
       "    </tr>\n",
       "  </tbody>\n",
       "</table>\n",
       "</div>"
      ],
      "text/plain": [
       "                                                 tweet        class\n",
       "973  Archeological evidence is clear, europeans hav...  hate_speech\n",
       "11   Who do you think you are cunt? wtf! Stay stead...      neither\n",
       "661                  Why the fuck would you ask Trump?  hate_speech"
      ]
     },
     "execution_count": 25,
     "metadata": {},
     "output_type": "execute_result"
    }
   ],
   "source": [
    "ethos_df.sample(3)"
   ]
  },
  {
   "cell_type": "code",
   "execution_count": 26,
   "metadata": {
    "scrolled": false
   },
   "outputs": [
    {
     "data": {
      "text/html": [
       "<div>\n",
       "<style scoped>\n",
       "    .dataframe tbody tr th:only-of-type {\n",
       "        vertical-align: middle;\n",
       "    }\n",
       "\n",
       "    .dataframe tbody tr th {\n",
       "        vertical-align: top;\n",
       "    }\n",
       "\n",
       "    .dataframe thead th {\n",
       "        text-align: right;\n",
       "    }\n",
       "</style>\n",
       "<table border=\"1\" class=\"dataframe\">\n",
       "  <thead>\n",
       "    <tr style=\"text-align: right;\">\n",
       "      <th></th>\n",
       "      <th>class</th>\n",
       "      <th>tweet</th>\n",
       "    </tr>\n",
       "  </thead>\n",
       "  <tbody>\n",
       "    <tr>\n",
       "      <th>1147</th>\n",
       "      <td>neither</td>\n",
       "      <td>LeftandRightareWrong @insideout26529 Because a...</td>\n",
       "    </tr>\n",
       "    <tr>\n",
       "      <th>725</th>\n",
       "      <td>offensive_language</td>\n",
       "      <td>whybotherwithliberals How embarrassing for the...</td>\n",
       "    </tr>\n",
       "    <tr>\n",
       "      <th>671</th>\n",
       "      <td>neither</td>\n",
       "      <td>Bernstein @chickabalter Funny when white racis...</td>\n",
       "    </tr>\n",
       "  </tbody>\n",
       "</table>\n",
       "</div>"
      ],
      "text/plain": [
       "                   class                                              tweet\n",
       "1147             neither  LeftandRightareWrong @insideout26529 Because a...\n",
       "725   offensive_language  whybotherwithliberals How embarrassing for the...\n",
       "671              neither  Bernstein @chickabalter Funny when white racis..."
      ]
     },
     "execution_count": 26,
     "metadata": {},
     "output_type": "execute_result"
    }
   ],
   "source": [
    "fox_df.sample(3)"
   ]
  },
  {
   "cell_type": "code",
   "execution_count": 27,
   "metadata": {
    "scrolled": false
   },
   "outputs": [
    {
     "data": {
      "text/html": [
       "<div>\n",
       "<style scoped>\n",
       "    .dataframe tbody tr th:only-of-type {\n",
       "        vertical-align: middle;\n",
       "    }\n",
       "\n",
       "    .dataframe tbody tr th {\n",
       "        vertical-align: top;\n",
       "    }\n",
       "\n",
       "    .dataframe thead th {\n",
       "        text-align: right;\n",
       "    }\n",
       "</style>\n",
       "<table border=\"1\" class=\"dataframe\">\n",
       "  <thead>\n",
       "    <tr style=\"text-align: right;\">\n",
       "      <th></th>\n",
       "      <th>class</th>\n",
       "      <th>tweet</th>\n",
       "    </tr>\n",
       "  </thead>\n",
       "  <tbody>\n",
       "    <tr>\n",
       "      <th>433</th>\n",
       "      <td>offensive_language</td>\n",
       "      <td>@USER Damn I felt this shit. Why you so loud lol</td>\n",
       "    </tr>\n",
       "    <tr>\n",
       "      <th>371</th>\n",
       "      <td>offensive_language</td>\n",
       "      <td>And have a bitch thinking you niggas have mone...</td>\n",
       "    </tr>\n",
       "    <tr>\n",
       "      <th>660</th>\n",
       "      <td>neither</td>\n",
       "      <td>#Denver's venues are STACKED with epic shows t...</td>\n",
       "    </tr>\n",
       "  </tbody>\n",
       "</table>\n",
       "</div>"
      ],
      "text/plain": [
       "                  class                                              tweet\n",
       "433  offensive_language   @USER Damn I felt this shit. Why you so loud lol\n",
       "371  offensive_language  And have a bitch thinking you niggas have mone...\n",
       "660             neither  #Denver's venues are STACKED with epic shows t..."
      ]
     },
     "execution_count": 27,
     "metadata": {},
     "output_type": "execute_result"
    }
   ],
   "source": [
    "olid_df.sample(3)"
   ]
  },
  {
   "cell_type": "markdown",
   "metadata": {},
   "source": [
    "### Finally combine it"
   ]
  },
  {
   "cell_type": "code",
   "execution_count": 29,
   "metadata": {},
   "outputs": [
    {
     "data": {
      "text/html": [
       "<div>\n",
       "<style scoped>\n",
       "    .dataframe tbody tr th:only-of-type {\n",
       "        vertical-align: middle;\n",
       "    }\n",
       "\n",
       "    .dataframe tbody tr th {\n",
       "        vertical-align: top;\n",
       "    }\n",
       "\n",
       "    .dataframe thead th {\n",
       "        text-align: right;\n",
       "    }\n",
       "</style>\n",
       "<table border=\"1\" class=\"dataframe\">\n",
       "  <thead>\n",
       "    <tr style=\"text-align: right;\">\n",
       "      <th></th>\n",
       "      <th>class</th>\n",
       "      <th>tweet</th>\n",
       "    </tr>\n",
       "  </thead>\n",
       "  <tbody>\n",
       "    <tr>\n",
       "      <th>14276</th>\n",
       "      <td>offensive_language</td>\n",
       "      <td>RT @BRANDONBARAY: update: u are still a bitch</td>\n",
       "    </tr>\n",
       "    <tr>\n",
       "      <th>3624</th>\n",
       "      <td>offensive_language</td>\n",
       "      <td>@JawShoeeAhhh bitch you can't even say no lol</td>\n",
       "    </tr>\n",
       "    <tr>\n",
       "      <th>10914</th>\n",
       "      <td>offensive_language</td>\n",
       "      <td>I swear I worry about me and nothing's but me....</td>\n",
       "    </tr>\n",
       "    <tr>\n",
       "      <th>453</th>\n",
       "      <td>offensive_language</td>\n",
       "      <td>\"HOW DO YOU KNOW MY TWITTER PASSWORD\" bitch pl...</td>\n",
       "    </tr>\n",
       "    <tr>\n",
       "      <th>10838</th>\n",
       "      <td>offensive_language</td>\n",
       "      <td>I really just did some hoe shyt, but just so u...</td>\n",
       "    </tr>\n",
       "    <tr>\n",
       "      <th>5807</th>\n",
       "      <td>offensive_language</td>\n",
       "      <td>@dantoomey2 forgot someone niglet</td>\n",
       "    </tr>\n",
       "    <tr>\n",
       "      <th>22941</th>\n",
       "      <td>offensive_language</td>\n",
       "      <td>Wish i had a bad bitch tonight where they at?</td>\n",
       "    </tr>\n",
       "    <tr>\n",
       "      <th>22220</th>\n",
       "      <td>hate_speech</td>\n",
       "      <td>Told my dad to go buy cookies for the graduati...</td>\n",
       "    </tr>\n",
       "    <tr>\n",
       "      <th>16103</th>\n",
       "      <td>hate_speech</td>\n",
       "      <td>RT @LANURSE1: Here is a #MichaelBrown supporte...</td>\n",
       "    </tr>\n",
       "    <tr>\n",
       "      <th>14217</th>\n",
       "      <td>hate_speech</td>\n",
       "      <td>RT @AriesSpears: These young cats being drafte...</td>\n",
       "    </tr>\n",
       "  </tbody>\n",
       "</table>\n",
       "</div>"
      ],
      "text/plain": [
       "                    class                                              tweet\n",
       "14276  offensive_language      RT @BRANDONBARAY: update: u are still a bitch\n",
       "3624   offensive_language      @JawShoeeAhhh bitch you can't even say no lol\n",
       "10914  offensive_language  I swear I worry about me and nothing's but me....\n",
       "453    offensive_language  \"HOW DO YOU KNOW MY TWITTER PASSWORD\" bitch pl...\n",
       "10838  offensive_language  I really just did some hoe shyt, but just so u...\n",
       "5807   offensive_language                  @dantoomey2 forgot someone niglet\n",
       "22941  offensive_language      Wish i had a bad bitch tonight where they at?\n",
       "22220         hate_speech  Told my dad to go buy cookies for the graduati...\n",
       "16103         hate_speech  RT @LANURSE1: Here is a #MichaelBrown supporte...\n",
       "14217         hate_speech  RT @AriesSpears: These young cats being drafte..."
      ]
     },
     "execution_count": 29,
     "metadata": {},
     "output_type": "execute_result"
    }
   ],
   "source": [
    "dfs = [auto_labeled_df, ethos_df, fox_df, olid_df]\n",
    "result = pd.concat(dfs)\n",
    "result.sample(10)"
   ]
  },
  {
   "cell_type": "markdown",
   "metadata": {},
   "source": [
    "Save the result"
   ]
  },
  {
   "cell_type": "code",
   "execution_count": 32,
   "metadata": {},
   "outputs": [],
   "source": [
    "result.to_csv('../resources/combined_data.csv', index=False, header=True)"
   ]
  }
 ],
 "metadata": {
  "kernelspec": {
   "display_name": "Python 3 (ipykernel)",
   "language": "python",
   "name": "python3"
  },
  "language_info": {
   "codemirror_mode": {
    "name": "ipython",
    "version": 3
   },
   "file_extension": ".py",
   "mimetype": "text/x-python",
   "name": "python",
   "nbconvert_exporter": "python",
   "pygments_lexer": "ipython3",
   "version": "3.9.7"
  }
 },
 "nbformat": 4,
 "nbformat_minor": 2
}
